{
 "cells": [
  {
   "cell_type": "markdown",
   "id": "comparable-original",
   "metadata": {},
   "source": [
    "# Introduction :\n",
    "\n",
    "This notebook represents the first steps to setup a damask job in pyiron.\n",
    "\n",
    "Damask website example : https://damask.mpie.de/\n",
    "\n",
    "**Files required to run the damask simulation**\n",
    "\n",
    "**1.Material configuration :** It contains the five parts(a.) homogenization, (b.) microstructure, (c.) crystallite, (d.) phase, (e.) texture\n",
    "\n",
    "Each of those parts contains a library of components necessary to describe the simulation parameters\n",
    "\n",
    "**2.Load defination :** It contains information about applied stress and strain.\n",
    "\n",
    "**3.Geometry :** It contain information about volume elements on a regular grid."
   ]
  },
  {
   "cell_type": "markdown",
   "id": "downtown-opera",
   "metadata": {},
   "source": [
    "# Import pyiron and damask"
   ]
  },
  {
   "cell_type": "code",
   "execution_count": 1,
   "id": "desperate-bench",
   "metadata": {
    "ExecuteTime": {
     "end_time": "2020-10-05T07:58:05.296301Z",
     "start_time": "2020-10-05T07:58:00.839091Z"
    }
   },
   "outputs": [],
   "source": [
    "from pyiron_base import Project\n",
    "import pyiron_continuum\n",
    "import numpy as np\n",
    "import matplotlib.pyplot as plt\n",
    "import seaborn as sns\n",
    "import yaml\n",
    "#from damask_wrapper import DAMASKjob\n",
    "%matplotlib inline"
   ]
  },
  {
   "cell_type": "code",
   "execution_count": 2,
   "id": "outstanding-valuable",
   "metadata": {
    "ExecuteTime": {
     "end_time": "2020-10-05T07:58:05.340298Z",
     "start_time": "2020-10-05T07:58:05.299253Z"
    }
   },
   "outputs": [],
   "source": [
    "pr = Project('first_steps')\n",
    "pr.remove_jobs_silently(recursive=True)"
   ]
  },
  {
   "cell_type": "markdown",
   "id": "honest-macro",
   "metadata": {},
   "source": [
    "# Define input"
   ]
  },
  {
   "cell_type": "code",
   "execution_count": 3,
   "id": "unique-jenny",
   "metadata": {},
   "outputs": [],
   "source": [
    "# create a Damaskjob\n",
    "job = pr.create_job.DAMASKjob('damask_job')\n",
    "# material_configuration\n",
    "job.input.material.read('/home/pyiron/Examples/material.yaml')\n",
    "# boundary condition, load_file\n",
    "job.input.load.read('/home/pyiron/Examples/tensionX.yaml')\n",
    "# geometry\n",
    "job.input.geometry.grid =  np.array([4,4,4])\n",
    "job.input.geometry.size = np.array([1.0,1.0,1.0])\n",
    "job.input.geometry.grains = 10"
   ]
  },
  {
   "cell_type": "markdown",
   "id": "polyphonic-advice",
   "metadata": {},
   "source": [
    "## Visulaize input parameters"
   ]
  },
  {
   "cell_type": "code",
   "execution_count": 4,
   "id": "mobile-afghanistan",
   "metadata": {},
   "outputs": [
    {
     "data": {
      "application/json": {
       "geometry": {
        "grains": "10",
        "grid": "array([4, 4, 4])",
        "size": "array([1., 1., 1.])"
       },
       "load": {
        "step": [
         {
          "discretization": {
           "N": "40",
           "f_out": "4",
           "t": "10"
          },
          "mechanics": {
           "P": [
            "'x'",
            "'x'",
            "'x'",
            "'x'",
            "0",
            "'x'",
            "'x'",
            "'x'",
            "0"
           ],
           "dot_F": [
            "0.001",
            "0",
            "0",
            "0",
            "'x'",
            "0",
            "0",
            "0",
            "'x'"
           ]
          }
         },
         {
          "discretization": {
           "N": "60",
           "f_out": "4",
           "t": "60"
          },
          "mechanics": {
           "P": [
            "'x'",
            "'x'",
            "'x'",
            "'x'",
            "0",
            "'x'",
            "'x'",
            "'x'",
            "0"
           ],
           "dot_F": [
            "0.001",
            "0",
            "0",
            "0",
            "'x'",
            "0",
            "0",
            "0",
            "'x'"
           ]
          }
         }
        ]
       },
       "material": {
        "homogenization": {
         "SX": {
          "N_constituents": "1",
          "mechanics": {
           "type": "'none'"
          }
         }
        },
        "material": [
         {
          "constituents": [
           {
            "O": [
             "1.0",
             "0.0",
             "0.0",
             "0.0"
            ],
            "fraction": "1.0",
            "phase": "'Aluminum'"
           }
          ],
          "homogenization": "'SX'"
         },
         {
          "constituents": [
           {
            "O": [
             "0.7936696712125002",
             "-0.28765777461664166",
             "-0.3436487135089419",
             "0.4113964260949434"
            ],
            "fraction": "1.0",
            "phase": "'Aluminum'"
           }
          ],
          "homogenization": "'SX'"
         },
         {
          "constituents": [
           {
            "O": [
             "0.3986143167493579",
             "-0.7014883552495493",
             "0.2154871765709027",
             "0.5500781677772945"
            ],
            "fraction": "1.0",
            "phase": "'Aluminum'"
           }
          ],
          "homogenization": "'SX'"
         },
         {
          "constituents": [
           {
            "O": [
             "0.28645844315788244",
             "-0.022571491243423537",
             "-0.467933059311115",
             "-0.8357456192708106"
            ],
            "fraction": "1.0",
            "phase": "'Aluminum'"
           }
          ],
          "homogenization": "'SX'"
         },
         {
          "constituents": [
           {
            "O": [
             "0.33012772942625784",
             "-0.6781865350268957",
             "0.6494525351030648",
             "0.09638521992649676"
            ],
            "fraction": "1.0",
            "phase": "'Aluminum'"
           }
          ],
          "homogenization": "'SX'"
         },
         {
          "constituents": [
           {
            "O": [
             "0.43596817439583935",
             "-0.5982537129781701",
             "0.046599032277502436",
             "0.6707106499919265"
            ],
            "fraction": "1.0",
            "phase": "'Aluminum'"
           }
          ],
          "homogenization": "'SX'"
         },
         {
          "constituents": [
           {
            "O": [
             "0.169734823419553",
             "-0.699615227367322",
             "-0.6059581215838098",
             "-0.33844257746495854"
            ],
            "fraction": "1.0",
            "phase": "'Aluminum'"
           }
          ],
          "homogenization": "'SX'"
         },
         {
          "constituents": [
           {
            "O": [
             "0.9698864809294915",
             "0.1729052643205874",
             "-0.15948307917616958",
             "0.06315956884687175"
            ],
            "fraction": "1.0",
            "phase": "'Aluminum'"
           }
          ],
          "homogenization": "'SX'"
         },
         {
          "constituents": [
           {
            "O": [
             "0.46205660912967883",
             "0.3105054068891252",
             "-0.617849551030653",
             "0.555294529545738"
            ],
            "fraction": "1.0",
            "phase": "'Aluminum'"
           }
          ],
          "homogenization": "'SX'"
         },
         {
          "constituents": [
           {
            "O": [
             "0.4512443497461787",
             "-0.7636045534540555",
             "-0.04739348426715133",
             "-0.45939142396805815"
            ],
            "fraction": "1.0",
            "phase": "'Aluminum'"
           }
          ],
          "homogenization": "'SX'"
         },
         {
          "constituents": [
           {
            "O": [
             "0.2161856212656443",
             "-0.6581450184826598",
             "-0.5498086209601588",
             "0.4667112513346289"
            ],
            "fraction": "1.0",
            "phase": "'Aluminum'"
           }
          ],
          "homogenization": "'SX'"
         },
         {
          "constituents": [
           {
            "O": [
             "0.8753220715350803",
             "-0.4561599367657419",
             "-0.13298279533852678",
             "-0.08969369719975541"
            ],
            "fraction": "1.0",
            "phase": "'Aluminum'"
           }
          ],
          "homogenization": "'SX'"
         },
         {
          "constituents": [
           {
            "O": [
             "0.11908260752431069",
             "0.18266024809834172",
             "-0.7144822594012615",
             "-0.664807992845101"
            ],
            "fraction": "1.0",
            "phase": "'Aluminum'"
           }
          ],
          "homogenization": "'SX'"
         },
         {
          "constituents": [
           {
            "O": [
             "0.751104669484278",
             "0.5585633382623958",
             "-0.34579336397009175",
             "0.06538900566860861"
            ],
            "fraction": "1.0",
            "phase": "'Aluminum'"
           }
          ],
          "homogenization": "'SX'"
         },
         {
          "constituents": [
           {
            "O": [
             "0.08740438971703973",
             "0.8991264096610437",
             "-0.4156704205935976",
             "0.10559485570696363"
            ],
            "fraction": "1.0",
            "phase": "'Aluminum'"
           }
          ],
          "homogenization": "'SX'"
         },
         {
          "constituents": [
           {
            "O": [
             "0.5584325870096193",
             "0.6016408353068798",
             "-0.14280340445801173",
             "0.5529814994483859"
            ],
            "fraction": "1.0",
            "phase": "'Aluminum'"
           }
          ],
          "homogenization": "'SX'"
         },
         {
          "constituents": [
           {
            "O": [
             "0.4052725440888093",
             "0.25253073423599154",
             "0.5693263597910454",
             "-0.669215876471182"
            ],
            "fraction": "1.0",
            "phase": "'Aluminum'"
           }
          ],
          "homogenization": "'SX'"
         },
         {
          "constituents": [
           {
            "O": [
             "0.7570164606888676",
             "0.15265448024694664",
             "-0.5998021466848317",
             "0.20942796551297105"
            ],
            "fraction": "1.0",
            "phase": "'Aluminum'"
           }
          ],
          "homogenization": "'SX'"
         },
         {
          "constituents": [
           {
            "O": [
             "0.6987659297138081",
             "-0.132172211261028",
             "-0.19693254724422338",
             "0.6748883269678543"
            ],
            "fraction": "1.0",
            "phase": "'Aluminum'"
           }
          ],
          "homogenization": "'SX'"
         },
         {
          "constituents": [
           {
            "O": [
             "0.7729330445886478",
             "0.21682179052722322",
             "-0.5207379472917645",
             "0.2905078484066341"
            ],
            "fraction": "1.0",
            "phase": "'Aluminum'"
           }
          ],
          "homogenization": "'SX'"
         }
        ],
        "phase": {
         "Aluminum": {
          "lattice": "'cF'",
          "mechanics": {
           "elasticity": {
            "C_11": "'106.75e9'",
            "C_12": "'60.41e9'",
            "C_44": "'28.34e9'",
            "type": "'hooke'"
           },
           "output": [
            "'F'",
            "'P'",
            "'F_e'",
            "'F_p'",
            "'L_p'",
            "'O'"
           ],
           "plasticity": {
            "N_sl": [
             "12"
            ],
            "a_sl": "2.25",
            "atol_xi": "1.0",
            "dot_gamma_0_sl": "0.001",
            "h_0_sl_sl": "'75e6'",
            "h_sl_sl": [
             "1",
             "1",
             "1.4",
             "1.4",
             "1.4",
             "1.4"
            ],
            "n_sl": "20",
            "output": [
             "'xi_sl'"
            ],
            "type": "'phenopowerlaw'",
            "xi_0_sl": [
             "'31e6'"
            ],
            "xi_inf_sl": [
             "'63e6'"
            ]
           }
          }
         }
        }
       }
      },
      "text/plain": [
       "InputList({'geometry': InputList({'grid': array([4, 4, 4]), 'size': array([1., 1., 1.]), 'grains': 10}), 'material': InputList({'homogenization': InputList({'SX': InputList({'N_constituents': 1, 'mechanics': InputList({'type': 'none'})})}), 'material': InputList([InputList({'homogenization': 'SX', 'constituents': InputList([InputList({'phase': 'Aluminum', 'fraction': 1.0, 'O': InputList([1.0, 0.0, 0.0, 0.0])})])}), InputList({'homogenization': 'SX', 'constituents': InputList([InputList({'phase': 'Aluminum', 'fraction': 1.0, 'O': InputList([0.7936696712125002, -0.28765777461664166, -0.3436487135089419, 0.4113964260949434])})])}), InputList({'homogenization': 'SX', 'constituents': InputList([InputList({'phase': 'Aluminum', 'fraction': 1.0, 'O': InputList([0.3986143167493579, -0.7014883552495493, 0.2154871765709027, 0.5500781677772945])})])}), InputList({'homogenization': 'SX', 'constituents': InputList([InputList({'phase': 'Aluminum', 'fraction': 1.0, 'O': InputList([0.28645844315788244, -0.022571491243423537, -0.467933059311115, -0.8357456192708106])})])}), InputList({'homogenization': 'SX', 'constituents': InputList([InputList({'phase': 'Aluminum', 'fraction': 1.0, 'O': InputList([0.33012772942625784, -0.6781865350268957, 0.6494525351030648, 0.09638521992649676])})])}), InputList({'homogenization': 'SX', 'constituents': InputList([InputList({'phase': 'Aluminum', 'fraction': 1.0, 'O': InputList([0.43596817439583935, -0.5982537129781701, 0.046599032277502436, 0.6707106499919265])})])}), InputList({'homogenization': 'SX', 'constituents': InputList([InputList({'phase': 'Aluminum', 'fraction': 1.0, 'O': InputList([0.169734823419553, -0.699615227367322, -0.6059581215838098, -0.33844257746495854])})])}), InputList({'homogenization': 'SX', 'constituents': InputList([InputList({'phase': 'Aluminum', 'fraction': 1.0, 'O': InputList([0.9698864809294915, 0.1729052643205874, -0.15948307917616958, 0.06315956884687175])})])}), InputList({'homogenization': 'SX', 'constituents': InputList([InputList({'phase': 'Aluminum', 'fraction': 1.0, 'O': InputList([0.46205660912967883, 0.3105054068891252, -0.617849551030653, 0.555294529545738])})])}), InputList({'homogenization': 'SX', 'constituents': InputList([InputList({'phase': 'Aluminum', 'fraction': 1.0, 'O': InputList([0.4512443497461787, -0.7636045534540555, -0.04739348426715133, -0.45939142396805815])})])}), InputList({'homogenization': 'SX', 'constituents': InputList([InputList({'phase': 'Aluminum', 'fraction': 1.0, 'O': InputList([0.2161856212656443, -0.6581450184826598, -0.5498086209601588, 0.4667112513346289])})])}), InputList({'homogenization': 'SX', 'constituents': InputList([InputList({'phase': 'Aluminum', 'fraction': 1.0, 'O': InputList([0.8753220715350803, -0.4561599367657419, -0.13298279533852678, -0.08969369719975541])})])}), InputList({'homogenization': 'SX', 'constituents': InputList([InputList({'phase': 'Aluminum', 'fraction': 1.0, 'O': InputList([0.11908260752431069, 0.18266024809834172, -0.7144822594012615, -0.664807992845101])})])}), InputList({'homogenization': 'SX', 'constituents': InputList([InputList({'phase': 'Aluminum', 'fraction': 1.0, 'O': InputList([0.751104669484278, 0.5585633382623958, -0.34579336397009175, 0.06538900566860861])})])}), InputList({'homogenization': 'SX', 'constituents': InputList([InputList({'phase': 'Aluminum', 'fraction': 1.0, 'O': InputList([0.08740438971703973, 0.8991264096610437, -0.4156704205935976, 0.10559485570696363])})])}), InputList({'homogenization': 'SX', 'constituents': InputList([InputList({'phase': 'Aluminum', 'fraction': 1.0, 'O': InputList([0.5584325870096193, 0.6016408353068798, -0.14280340445801173, 0.5529814994483859])})])}), InputList({'homogenization': 'SX', 'constituents': InputList([InputList({'phase': 'Aluminum', 'fraction': 1.0, 'O': InputList([0.4052725440888093, 0.25253073423599154, 0.5693263597910454, -0.669215876471182])})])}), InputList({'homogenization': 'SX', 'constituents': InputList([InputList({'phase': 'Aluminum', 'fraction': 1.0, 'O': InputList([0.7570164606888676, 0.15265448024694664, -0.5998021466848317, 0.20942796551297105])})])}), InputList({'homogenization': 'SX', 'constituents': InputList([InputList({'phase': 'Aluminum', 'fraction': 1.0, 'O': InputList([0.6987659297138081, -0.132172211261028, -0.19693254724422338, 0.6748883269678543])})])}), InputList({'homogenization': 'SX', 'constituents': InputList([InputList({'phase': 'Aluminum', 'fraction': 1.0, 'O': InputList([0.7729330445886478, 0.21682179052722322, -0.5207379472917645, 0.2905078484066341])})])})]), 'phase': InputList({'Aluminum': InputList({'lattice': 'cF', 'mechanics': InputList({'output': InputList(['F', 'P', 'F_e', 'F_p', 'L_p', 'O']), 'elasticity': InputList({'C_11': '106.75e9', 'C_12': '60.41e9', 'C_44': '28.34e9', 'type': 'hooke'}), 'plasticity': InputList({'N_sl': InputList([12]), 'a_sl': 2.25, 'atol_xi': 1.0, 'dot_gamma_0_sl': 0.001, 'h_0_sl_sl': '75e6', 'h_sl_sl': InputList([1, 1, 1.4, 1.4, 1.4, 1.4]), 'n_sl': 20, 'output': InputList(['xi_sl']), 'type': 'phenopowerlaw', 'xi_0_sl': InputList(['31e6']), 'xi_inf_sl': InputList(['63e6'])})})})})}), 'load': InputList({'step': InputList([InputList({'mechanics': InputList({'dot_F': InputList([0.001, 0, 0, 0, 'x', 0, 0, 0, 'x']), 'P': InputList(['x', 'x', 'x', 'x', 0, 'x', 'x', 'x', 0])}), 'discretization': InputList({'t': 10, 'N': 40, 'f_out': 4})}), InputList({'mechanics': InputList({'dot_F': InputList([0.001, 0, 0, 0, 'x', 0, 0, 0, 'x']), 'P': InputList(['x', 'x', 'x', 'x', 0, 'x', 'x', 'x', 0])}), 'discretization': InputList({'t': 60, 'N': 60, 'f_out': 4})})])})})"
      ]
     },
     "execution_count": 4,
     "metadata": {},
     "output_type": "execute_result"
    }
   ],
   "source": [
    "job.input"
   ]
  },
  {
   "cell_type": "markdown",
   "id": "dying-connecticut",
   "metadata": {},
   "source": [
    "# Run a job"
   ]
  },
  {
   "cell_type": "code",
   "execution_count": 5,
   "id": "interpreted-quest",
   "metadata": {},
   "outputs": [
    {
     "name": "stdout",
     "output_type": "stream",
     "text": [
      "The job damask_job was saved and received the ID: 2\n"
     ]
    }
   ],
   "source": [
    "job.run()"
   ]
  },
  {
   "cell_type": "markdown",
   "id": "canadian-modern",
   "metadata": {},
   "source": [
    "# Output"
   ]
  },
  {
   "cell_type": "code",
   "execution_count": 6,
   "id": "superior-seminar",
   "metadata": {},
   "outputs": [
    {
     "name": "stderr",
     "output_type": "stream",
     "text": [
      " ██████████████████████████████████████████████████ 100% ETA 0:00:00\n",
      " ██████████████████████████████████████████████████ 100% ETA 0:00:00\n",
      " ██████████████████████████████████████████████████ 100% ETA 0:00:00\n",
      " ██████████████████████████████████████████████████ 100% ETA 0:00:00\n",
      " ██████████████████████████████████████████████████ 100% ETA 0:00:00\n",
      " ██████████████████████████████████████████████████ 100% ETA 0:00:00\n",
      " ██████████████████████████████████████████████████ 100% ETA 0:00:00\n"
     ]
    },
    {
     "data": {
      "image/png": "[encoded data removed]",
      "text/plain": [
       "<Figure size 432x288 with 1 Axes>"
      ]
     },
     "metadata": {
      "needs_background": "light"
     },
     "output_type": "display_data"
    }
   ],
   "source": [
    "job.plot_stress_strain()"
   ]
  },
  {
   "cell_type": "markdown",
   "id": "surprising-bosnia",
   "metadata": {},
   "source": [
    "# To Do! \n",
    "Extending the utility functions with more use cases\n"
   ]
  },
  {
   "cell_type": "code",
   "execution_count": null,
   "id": "figured-turning",
   "metadata": {},
   "outputs": [],
   "source": []
  }
 ],
 "metadata": {
  "kernelspec": {
   "display_name": "Python 3",
   "language": "python",
   "name": "python3"
  },
  "language_info": {
   "codemirror_mode": {
    "name": "ipython",
    "version": 3
   },
   "file_extension": ".py",
   "mimetype": "text/x-python",
   "name": "python",
   "nbconvert_exporter": "python",
   "pygments_lexer": "ipython3",
   "version": "3.8.6"
  }
 },
 "nbformat": 4,
 "nbformat_minor": 5
}
