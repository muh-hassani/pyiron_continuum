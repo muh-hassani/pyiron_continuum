{
 "cells": [
  {
   "cell_type": "markdown",
   "id": "uniform-hotel",
   "metadata": {},
   "source": [
    "# Introduction :\n",
    "\n",
    "This notebook represents the first steps to setup a damask job in pyiron.\n",
    "\n",
    "Damask website example : https://damask.mpie.de/\n",
    "\n",
    "**Files required to run the damask simulation**\n",
    "\n",
    "**1.Material configuration :** It contains the five parts(a.) homogenization, (b.) microstructure, (c.) crystallite, (d.) phase, (e.) texture\n",
    "\n",
    "Each of those parts contains a library of components necessary to describe the simulation parameters\n",
    "\n",
    "**2.Load defination :** It contains information about applied stress and strain.\n",
    "\n",
    "**3.Geometry :** It contain information about volume elements on a regular grid.\n",
    "\n",
    "**Note :** Current example is compatible with damask version 3.0.0 alpha2"
   ]
  },
  {
   "cell_type": "markdown",
   "id": "naked-stability",
   "metadata": {},
   "source": [
    "# Import pyiron and damask"
   ]
  },
  {
   "cell_type": "code",
   "execution_count": 1,
   "id": "clean-opinion",
   "metadata": {
    "ExecuteTime": {
     "end_time": "2020-10-05T07:58:05.296301Z",
     "start_time": "2020-10-05T07:58:00.839091Z"
    }
   },
   "outputs": [],
   "source": [
    "from pyiron_base import Project\n",
    "#import pyiron_continuum\n",
    "import numpy as np\n",
    "import matplotlib.pyplot as plt\n",
    "import seaborn as sns\n",
    "import yaml\n",
    "%matplotlib inline\n",
    "import os"
   ]
  },
  {
   "cell_type": "code",
   "execution_count": 2,
   "id": "tropical-career",
   "metadata": {
    "ExecuteTime": {
     "end_time": "2020-10-05T07:58:05.340298Z",
     "start_time": "2020-10-05T07:58:05.299253Z"
    }
   },
   "outputs": [],
   "source": [
    "pr = Project('demo_steps')\n",
    "pr.remove_jobs_silently(recursive=True)"
   ]
  },
  {
   "cell_type": "markdown",
   "id": "mobile-parcel",
   "metadata": {},
   "source": [
    "# Define input"
   ]
  },
  {
   "cell_type": "code",
   "execution_count": 3,
   "id": "committed-explorer",
   "metadata": {},
   "outputs": [],
   "source": [
    "# create a Damaskjob\n",
    "job = pr.create_job(pr.job_type.DAMASKjob, 'damask_job')\n",
    "# material_configuration\n",
    "job.input.material.read(os.path.join(os.getcwd(), 'material.yaml'))\n",
    "# boundary condition, load_file\n",
    "job.input.load.read(os.path.join(os.getcwd(), 'tensionX.yaml'))\n",
    "# geometry\n",
    "job.input.geometry.grid =  np.array([4,4,4])\n",
    "job.input.geometry.size = np.array([1.0,1.0,1.0])\n",
    "job.input.geometry.grains = 10"
   ]
  },
  {
   "cell_type": "markdown",
   "id": "associate-handy",
   "metadata": {},
   "source": [
    "## Visulaize input parameters"
   ]
  },
  {
   "cell_type": "code",
   "execution_count": 4,
   "id": "nasty-thursday",
   "metadata": {},
   "outputs": [
    {
     "data": {
      "text/plain": [
       "1"
      ]
     },
     "execution_count": 4,
     "metadata": {},
     "output_type": "execute_result"
    }
   ],
   "source": [
    "job.input.material.homogenization.SX.N_constituents"
   ]
  },
  {
   "cell_type": "markdown",
   "id": "floppy-slovak",
   "metadata": {},
   "source": [
    "# Run a job"
   ]
  },
  {
   "cell_type": "code",
   "execution_count": 5,
   "id": "compliant-familiar",
   "metadata": {},
   "outputs": [
    {
     "name": "stdout",
     "output_type": "stream",
     "text": [
      "The job damask_job was saved and received the ID: 5\n"
     ]
    },
    {
     "name": "stderr",
     "output_type": "stream",
     "text": [
      " ██████████████████████████████████████████████████ 100% ETA 0:00:00\n",
      " ██████████████████████████████████████████████████ 100% ETA 0:00:00\n",
      " ██████████████████████████████████████████████████ 100% ETA 0:00:00\n",
      " ██████████████████████████████████████████████████ 100% ETA 0:00:00\n",
      " ██████████████████████████████████████████████████ 100% ETA 0:00:00\n",
      " ██████████████████████████████████████████████████ 100% ETA 0:00:00\n",
      " ██████████████████████████████████████████████████ 100% ETA 0:00:00\n"
     ]
    }
   ],
   "source": [
    "job.run()"
   ]
  },
  {
   "cell_type": "markdown",
   "id": "featured-designation",
   "metadata": {},
   "source": [
    "# Output"
   ]
  },
  {
   "cell_type": "code",
   "execution_count": 6,
   "id": "scheduled-gamma",
   "metadata": {},
   "outputs": [
    {
     "data": {
      "text/plain": [
       "array([8.09023642e-12, 6.56943797e+01, 7.85741440e+01, 8.19417171e+01,\n",
       "       8.35545705e+01, 8.45350436e+01, 8.52488267e+01, 8.58102312e+01,\n",
       "       8.62699059e+01, 8.66645215e+01, 8.70047004e+01, 8.79916990e+01,\n",
       "       8.87055394e+01, 8.93041638e+01, 8.98530113e+01, 9.03793071e+01,\n",
       "       9.08961177e+01, 9.14036452e+01, 9.19041873e+01, 9.23957797e+01,\n",
       "       9.28776891e+01, 9.33506203e+01, 9.38163770e+01, 9.42771847e+01,\n",
       "       9.47349308e+01, 9.51904490e+01])"
      ]
     },
     "execution_count": 6,
     "metadata": {},
     "output_type": "execute_result"
    }
   ],
   "source": [
    "job.output.stress"
   ]
  },
  {
   "cell_type": "code",
   "execution_count": 7,
   "id": "harmful-cream",
   "metadata": {},
   "outputs": [
    {
     "data": {
      "image/png": "[encoded data removed]",
      "text/plain": [
       "<Figure size 432x288 with 1 Axes>"
      ]
     },
     "metadata": {
      "needs_background": "light"
     },
     "output_type": "display_data"
    }
   ],
   "source": [
    "job.plot_stress_strain"
   ]
  },
  {
   "cell_type": "code",
   "execution_count": 8,
   "id": "jewish-athens",
   "metadata": {},
   "outputs": [
    {
     "data": {
      "text/html": [
       "<table><tr><th>Header</th><th>Data Arrays</th></tr><tr><td>\n",
       "<table>\n",
       "<tr><th>RectilinearGrid</th><th>Information</th></tr>\n",
       "<tr><td>N Cells</td><td>64</td></tr>\n",
       "<tr><td>N Points</td><td>125</td></tr>\n",
       "<tr><td>X Bounds</td><td>0.000e+00, 1.000e+00</td></tr>\n",
       "<tr><td>Y Bounds</td><td>0.000e+00, 1.000e+00</td></tr>\n",
       "<tr><td>Z Bounds</td><td>0.000e+00, 1.000e+00</td></tr>\n",
       "<tr><td>Dimensions</td><td>5, 5, 5</td></tr>\n",
       "<tr><td>N Arrays</td><td>5</td></tr>\n",
       "</table>\n",
       "\n",
       "</td><td>\n",
       "<table>\n",
       "<tr><th>Name</th><th>Field</th><th>Type</th><th>N Comp</th><th>Min</th><th>Max</th></tr>\n",
       "<tr><td><b>u</b></td><td>Points</td><td>float32</td><td>3</td><td>-2.851e-02</td><td>5.233e-02</td></tr>\n",
       "<tr><td>phase/mechanics/sigma / Pa</td><td>Cells</td><td>float32</td><td>9</td><td>-5.020e+07</td><td>1.216e+08</td></tr>\n",
       "<tr><td>phase/mechanics/epsilon_V^0.0(F) / 1</td><td>Cells</td><td>float32</td><td>9</td><td>-5.257e-02</td><td>7.828e-02</td></tr>\n",
       "<tr><td>phase/mechanics/sigma_vM / Pa</td><td>Cells</td><td>float32</td><td>1</td><td>6.908e+07</td><td>1.314e+08</td></tr>\n",
       "<tr><td>phase/mechanics/epsilon_V^0.0(F)_vM / 1</td><td>Cells</td><td>float32</td><td>1</td><td>2.304e-02</td><td>8.402e-02</td></tr>\n",
       "</table>\n",
       "\n",
       "</td></tr> </table>"
      ],
      "text/plain": [
       "RectilinearGrid (0x7fb48d8ff040)\n",
       "  N Cells:\t64\n",
       "  N Points:\t125\n",
       "  X Bounds:\t0.000e+00, 1.000e+00\n",
       "  Y Bounds:\t0.000e+00, 1.000e+00\n",
       "  Z Bounds:\t0.000e+00, 1.000e+00\n",
       "  Dimensions:\t5, 5, 5\n",
       "  N Arrays:\t5"
      ]
     },
     "execution_count": 8,
     "metadata": {},
     "output_type": "execute_result"
    }
   ],
   "source": [
    "job.mesh(inc=80)"
   ]
  },
  {
   "cell_type": "code",
   "execution_count": null,
   "id": "cordless-competition",
   "metadata": {},
   "outputs": [],
   "source": []
  }
 ],
 "metadata": {
  "kernelspec": {
   "display_name": "Python 3",
   "language": "python",
   "name": "python3"
  },
  "language_info": {
   "codemirror_mode": {
    "name": "ipython",
    "version": 3
   },
   "file_extension": ".py",
   "mimetype": "text/x-python",
   "name": "python",
   "nbconvert_exporter": "python",
   "pygments_lexer": "ipython3",
   "version": "3.8.6"
  }
 },
 "nbformat": 4,
 "nbformat_minor": 5
}
