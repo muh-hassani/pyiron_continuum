{
 "cells": [
  {
   "cell_type": "markdown",
   "id": "2a5a5b37",
   "metadata": {},
   "source": [
    "Here we present the first example for the usage of pyiron-damask integration.\n",
    "Within this notebook, user can define their own geometry files, material properties, and loading steps for the tensile test of the steel with different number of grains.\n",
    "\n",
    "Basically, the inputs from the user's side are:\n",
    "\n",
    "[x] Number of grains\n",
    "\n",
    "[x] Size of the steel cubic\n",
    "\n",
    "[x] Resoution of the cubic(the number of finite element grid in x,y,z direction)\n",
    "\n",
    "[x] Elastic material parameter, i.e., Youngs modulus, poisson ratio...\n",
    "\n",
    "[x] Loading steps for the tensile test\n",
    "\n",
    "On the output side, pyiron-damask integration can offer:\n",
    "\n",
    "[x] All the component of Cauchy stress, 1st Piola-Kirchoff stress\n",
    "\n",
    "[x] All the comonent of strain tensor\n",
    "\n",
    "[x] vonMises stress"
   ]
  },
  {
   "cell_type": "code",
   "execution_count": 1,
   "id": "0b380f2c",
   "metadata": {},
   "outputs": [],
   "source": [
    "# Here we import the basic components from pyiron-damask\n",
    "from pyiron_base import Project\n",
    "import numpy as np\n",
    "import matplotlib.pyplot as plt\n",
    "import seaborn as sns\n",
    "import yaml\n",
    "from pyiron_continuum.damask import damaskjob # this one is required for the pyiron-damask job"
   ]
  },
  {
   "cell_type": "code",
   "execution_count": 2,
   "id": "5ac23d44",
   "metadata": {},
   "outputs": [],
   "source": [
    "# Firstly, we need to create a project\n",
    "pr = Project('tensile')\n",
    "pr.remove_jobs_silently(recursive=True)"
   ]
  },
  {
   "cell_type": "code",
   "execution_count": 3,
   "id": "c9ee7d86",
   "metadata": {},
   "outputs": [],
   "source": [
    "# Next, we need to tell pyiron, we want to create a damask type job\n",
    "job = pr.create_job(damaskjob.DAMASK, 'damask_job')"
   ]
  },
  {
   "cell_type": "code",
   "execution_count": 4,
   "id": "257e5107",
   "metadata": {},
   "outputs": [],
   "source": [
    "# Now, lets set up the geometry size for the simulation\n",
    "# user can give the number of grains (grains)\n",
    "#               the size of the steel cubic (size)\n",
    "#               the resolution/mesh number of the cubic(grids)\n",
    "job.generategeometryyaml(size=1.0e-5,grains=4,grids=16)"
   ]
  },
  {
   "cell_type": "code",
   "execution_count": 5,
   "id": "36387d0c",
   "metadata": {},
   "outputs": [],
   "source": [
    "# Now, we can define the material properties for the steel/aluminum cubic with different elastic properties\n",
    "# materialphase-->defines the aluminum or steel database from damask\n",
    "# homogenizationmethod-->select the homogenization method for the calculation\n",
    "# c11,c12,c44-->defines the elastic constant for the material\n",
    "job.generatematerialyaml(materialphase='Aluminum',homogenizationmethod='SX',c11=106.75e+9,c12=60.41e+9,c44=28.34e+9)"
   ]
  },
  {
   "cell_type": "code",
   "execution_count": 6,
   "id": "fa6185f6",
   "metadata": {},
   "outputs": [
    {
     "name": "stdout",
     "output_type": "stream",
     "text": [
      "DataContainer({'material': DataContainer([DataContainer({'constituents': DataContainer([DataContainer({'O': DataContainer([0.8202782408828724, -0.10236674596960525, 0.42693539382564505, -0.3665935437956267]), 'phase': 'Aluminum', 'v': 1.0})]), 'homogenization': 'SX'}), DataContainer({'constituents': DataContainer([DataContainer({'O': DataContainer([0.28322812575814876, -0.19416419276715946, -0.8416297773874354, -0.4168229994150747]), 'phase': 'Aluminum', 'v': 1.0})]), 'homogenization': 'SX'}), DataContainer({'constituents': DataContainer([DataContainer({'O': DataContainer([0.5686339392639893, 0.48961816764279936, -0.5473399541785959, 0.37060554177048916]), 'phase': 'Aluminum', 'v': 1.0})]), 'homogenization': 'SX'}), DataContainer({'constituents': DataContainer([DataContainer({'O': DataContainer([0.5405757025383835, 0.5995076834658485, -0.40015372723432735, -0.43387261018762235]), 'phase': 'Aluminum', 'v': 1.0})]), 'homogenization': 'SX'})]), 'homogenization': DataContainer({'SX': DataContainer({'N_constituents': 1, 'mechanical': DataContainer({'type': 'pass'})})}), 'phase': DataContainer({'Aluminum': DataContainer({'lattice': 'cF', 'mechanical': DataContainer({'output': DataContainer(['F', 'P', 'F_e', 'F_p', 'L_p', 'O']), 'elastic': DataContainer({'type': 'Hooke', 'C_11': 106750000000.0, 'C_12': 60410000000.0, 'C_44': 28340000000.0}), 'plastic': DataContainer({'type': 'phenopowerlaw', 'N_sl': DataContainer([12]), 'a_sl': 2.25, 'atol_xi': 1.0, 'dot_gamma_0_sl': 0.001, 'h_0_sl-sl': 75000000.0, 'h_sl-sl': DataContainer([1, 1, 1.4, 1.4, 1.4, 1.4, 1.4]), 'n_sl': 20, 'output': DataContainer(['xi_sl']), 'xi_0_sl': DataContainer([31000000.0]), 'xi_inf_sl': DataContainer([63000000.0])})})})})})\n"
     ]
    }
   ],
   "source": [
    "print(job.input.material)"
   ]
  },
  {
   "cell_type": "code",
   "execution_count": 10,
   "id": "e0cf143e",
   "metadata": {},
   "outputs": [],
   "source": [
    "# Now we can define the loading conditions for the tensile test\n",
    "# loadfilename-->defines the yaml file name for loading(which will be used by damask)\n",
    "# loadtype-->let users to choose wether we do the tensile test or the shear test\n",
    "# time    -->time step size\n",
    "# step    -->simulation/loaiding steps\n",
    "# interval-->output interval\n",
    "job.generateloadyaml(loadfilename='tensionX.yaml',loadtype='tensile',time=1.0,step=5,interval=1)"
   ]
  },
  {
   "cell_type": "code",
   "execution_count": 11,
   "id": "bd0354b4",
   "metadata": {},
   "outputs": [
    {
     "name": "stdout",
     "output_type": "stream",
     "text": [
      "DataContainer({'loadfile': 'tensionX.yaml', 'time': 1.0, 'step': 5, 'interval': 1})\n"
     ]
    }
   ],
   "source": [
    "print(job.input.loading)"
   ]
  },
  {
   "cell_type": "code",
   "execution_count": 12,
   "id": "859bd99e",
   "metadata": {},
   "outputs": [],
   "source": [
    "### now, since everyting is ready, we can run the tensile test simulation\n",
    "job.Run()"
   ]
  },
  {
   "cell_type": "code",
   "execution_count": 13,
   "id": "ca7c661c",
   "metadata": {},
   "outputs": [
    {
     "name": "stdout",
     "output_type": "stream",
     "text": [
      "Result is saved to: Polycystal_4_16x16x16_tensionX.hdf5\n"
     ]
    },
    {
     "name": "stderr",
     "output_type": "stream",
     "text": [
      " ██████████████████████████████████████████████████ 100% ETA 0:00:00\n",
      " ██████████████████████████████████████████████████ 100% ETA 0:00:00\n",
      " ██████████████████████████████████████████████████ 100% ETA 0:00:00\n",
      " ██████████████████████████████████████████████████ 100% ETA 0:00:00\n",
      " ██████████████████████████████████████████████████ 100% ETA 0:00:00\n",
      " ██████████████████████████████████████████████████ 100% ETA 0:00:00\n",
      " ██████████████████████████████████████████████████ 100% ETA 0:00:00\n"
     ]
    }
   ],
   "source": [
    "### once the simulation is done, we can keep all the results, i.e., stress, strain, vonMises stress, etc.\n",
    "job.SaveResult()"
   ]
  },
  {
   "cell_type": "code",
   "execution_count": 14,
   "id": "ebf66745",
   "metadata": {},
   "outputs": [
    {
     "data": {
      "text/plain": [
       "(<Figure size 432x288 with 1 Axes>,\n",
       " <AxesSubplot:xlabel='$\\\\varepsilon_{VM} $', ylabel='$\\\\sigma_{VM}$ (MPa)'>)"
      ]
     },
     "execution_count": 14,
     "metadata": {},
     "output_type": "execute_result"
    },
    {
     "data": {
      "image/png": "[encoded data removed]",
      "text/plain": [
       "<Figure size 432x288 with 1 Axes>"
      ]
     },
     "metadata": {
      "needs_background": "light"
     },
     "output_type": "display_data"
    }
   ],
   "source": [
    "# Now let's have a look at the stress strain curve\n",
    "job.PlotStressStrain()"
   ]
  },
  {
   "cell_type": "code",
   "execution_count": null,
   "id": "fb583f23",
   "metadata": {},
   "outputs": [],
   "source": []
  }
 ],
 "metadata": {
  "kernelspec": {
   "display_name": "Python 3",
   "language": "python",
   "name": "python3"
  },
  "language_info": {
   "codemirror_mode": {
    "name": "ipython",
    "version": 3
   },
   "file_extension": ".py",
   "mimetype": "text/x-python",
   "name": "python",
   "nbconvert_exporter": "python",
   "pygments_lexer": "ipython3",
   "version": "3.8.10"
  }
 },
 "nbformat": 4,
 "nbformat_minor": 5
}
