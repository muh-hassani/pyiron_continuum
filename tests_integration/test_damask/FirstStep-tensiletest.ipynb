{
 "cells": [
  {
   "cell_type": "markdown",
   "id": "2a5a5b37",
   "metadata": {},
   "source": [
    "Here we present the first example for the usage of pyiron-damask integration.\n",
    "Within this notebook, user can define their own geometry files, material properties, and loading steps for the tensile test of the steel with different number of grains.\n",
    "\n",
    "Basically, the inputs from the user's side are:\n",
    "[x] Number of grains\n",
    "[x] Size of the steel cubic\n",
    "[x] Resoution of the cubic(the number of finite element grid in x,y,z direction)\n",
    "[x] Elastic material parameter, i.e., Youngs modulus, poisson ratio...\n",
    "[x] Loading steps for the tensile test\n",
    "\n",
    "On the output side, pyiron-damask integration can offer:\n",
    "[x] All the component of Cauchy stress, 1st Piola-Kirchoff stress\n",
    "[x] All the comonent of strain tensor\n",
    "[x] vonMises stress"
   ]
  },
  {
   "cell_type": "code",
   "execution_count": 12,
   "id": "0b380f2c",
   "metadata": {},
   "outputs": [],
   "source": [
    "# Here we import the basic components from pyiron-damask\n",
    "from pyiron_base import Project\n",
    "import numpy as np\n",
    "import matplotlib.pyplot as plt\n",
    "import seaborn as sns\n",
    "import yaml\n",
    "from pyiron_continuum.damask import damaskjob # this one is required for the pyiron-damask job"
   ]
  },
  {
   "cell_type": "code",
   "execution_count": 13,
   "id": "5ac23d44",
   "metadata": {},
   "outputs": [],
   "source": [
    "# Firstly, we need to create a project\n",
    "pr = Project('tensile')\n",
    "pr.remove_jobs_silently(recursive=True)"
   ]
  },
  {
   "cell_type": "code",
   "execution_count": 14,
   "id": "c9ee7d86",
   "metadata": {},
   "outputs": [],
   "source": [
    "# Next, we need to tell pyiron, we want to create a damask type job\n",
    "job = pr.create_job(damaskjob.DAMASK, 'damask_job')"
   ]
  },
  {
   "cell_type": "code",
   "execution_count": 15,
   "id": "257e5107",
   "metadata": {},
   "outputs": [
    {
     "name": "stdout",
     "output_type": "stream",
     "text": [
      "1e-05\n"
     ]
    }
   ],
   "source": [
    "# Now, lets set up the geometry size for the simulation\n",
    "print(job.input.geometry['size'])"
   ]
  },
  {
   "cell_type": "code",
   "execution_count": null,
   "id": "36387d0c",
   "metadata": {},
   "outputs": [],
   "source": []
  }
 ],
 "metadata": {
  "kernelspec": {
   "display_name": "Python 3",
   "language": "python",
   "name": "python3"
  },
  "language_info": {
   "codemirror_mode": {
    "name": "ipython",
    "version": 3
   },
   "file_extension": ".py",
   "mimetype": "text/x-python",
   "name": "python",
   "nbconvert_exporter": "python",
   "pygments_lexer": "ipython3",
   "version": "3.8.10"
  }
 },
 "nbformat": 4,
 "nbformat_minor": 5
}
